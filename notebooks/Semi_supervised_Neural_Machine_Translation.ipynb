{
  "nbformat": 4,
  "nbformat_minor": 0,
  "metadata": {
    "colab": {
      "name": "Semi-supervised Neural Machine Translation.ipynb",
      "provenance": [],
      "collapsed_sections": [],
      "authorship_tag": "ABX9TyNR9ADEhiOwf5FEUvcCg8FM",
      "include_colab_link": true
    },
    "kernelspec": {
      "name": "python3",
      "display_name": "Python 3"
    }
  },
  "cells": [
    {
      "cell_type": "markdown",
      "metadata": {
        "id": "view-in-github",
        "colab_type": "text"
      },
      "source": [
        "<a href=\"https://colab.research.google.com/github/marued/low-resource-machine-translation-team07/blob/master/notebooks/Semi_supervised_Neural_Machine_Translation.ipynb\" target=\"_parent\"><img src=\"https://colab.research.google.com/assets/colab-badge.svg\" alt=\"Open In Colab\"/></a>"
      ]
    },
    {
      "cell_type": "markdown",
      "metadata": {
        "id": "srgFcIIiknCX",
        "colab_type": "text"
      },
      "source": [
        "## Semi-supervised  Neural Machine Translation\n",
        "reproduce the result on our corpus, \n",
        "Project: https://github.com/artetxem/undreamt\n"
      ]
    },
    {
      "cell_type": "code",
      "metadata": {
        "id": "T0ob5dbDgiBI",
        "colab_type": "code",
        "outputId": "67b574e0-1b77-420b-f49b-0c2bc04f614d",
        "colab": {
          "base_uri": "https://localhost:8080/",
          "height": 136
        }
      },
      "source": [
        "import os\n",
        "os.chdir(\"/home/ryan/projects/undreamt/data\")\n",
        "os.listdir()"
      ],
      "execution_count": 5,
      "outputs": [
        {
          "output_type": "execute_result",
          "data": {
            "text/plain": [
              "['tokenizer.py',\n",
              " 'train.lang1',\n",
              " 'punctuation_remover.py',\n",
              " 'unaligned.fr',\n",
              " 'train.lang2',\n",
              " 'unaligned.en',\n",
              " 'evaluator.py']"
            ]
          },
          "metadata": {
            "tags": []
          },
          "execution_count": 5
        }
      ]
    },
    {
      "cell_type": "code",
      "metadata": {
        "id": "Dbc3z0aaR3gx",
        "colab_type": "code",
        "outputId": "477dd5d2-3633-4e0d-ce84-104926428886",
        "colab": {
          "base_uri": "https://localhost:8080/",
          "height": 833
        }
      },
      "source": [
        "!pip install sentencepiece\n",
        "!pip install spacy"
      ],
      "execution_count": 7,
      "outputs": [
        {
          "output_type": "stream",
          "text": [
            "Requirement already satisfied: sentencepiece in /home/ryan/parlai_env/lib/python3.6/site-packages\n",
            "Collecting spacy\n",
            "\u001b[33m  Cache entry deserialization failed, entry ignored\u001b[0m\n",
            "  Downloading https://files.pythonhosted.org/packages/55/2e/ac00f5c9d01e66cc6ab75eb2a460c9b0dc21ad99a12f810c86a58309e63c/spacy-2.2.4-cp36-cp36m-manylinux1_x86_64.whl (10.6MB)\n",
            "\u001b[K    100% |████████████████████████████████| 10.6MB 126kB/s \n",
            "\u001b[?25hRequirement already satisfied: setuptools in /home/ryan/parlai_env/lib/python3.6/site-packages (from spacy)\n",
            "Collecting catalogue<1.1.0,>=0.0.7 (from spacy)\n",
            "\u001b[33m  Cache entry deserialization failed, entry ignored\u001b[0m\n",
            "  Using cached https://files.pythonhosted.org/packages/6c/f9/9a5658e2f56932e41eb264941f9a2cb7f3ce41a80cb36b2af6ab78e2f8af/catalogue-1.0.0-py2.py3-none-any.whl\n",
            "Collecting murmurhash<1.1.0,>=0.28.0 (from spacy)\n",
            "\u001b[33m  Cache entry deserialization failed, entry ignored\u001b[0m\n",
            "  Downloading https://files.pythonhosted.org/packages/a6/e6/63f160a4fdf0e875d16b28f972083606d8d54f56cd30cb8929f9a1ee700e/murmurhash-1.0.2-cp36-cp36m-manylinux1_x86_64.whl\n",
            "Collecting wasabi<1.1.0,>=0.4.0 (from spacy)\n",
            "\u001b[33m  Cache entry deserialization failed, entry ignored\u001b[0m\n",
            "  Using cached https://files.pythonhosted.org/packages/21/e1/e4e7b754e6be3a79c400eb766fb34924a6d278c43bb828f94233e0124a21/wasabi-0.6.0-py3-none-any.whl\n",
            "Collecting blis<0.5.0,>=0.4.0 (from spacy)\n",
            "\u001b[33m  Cache entry deserialization failed, entry ignored\u001b[0m\n",
            "  Downloading https://files.pythonhosted.org/packages/41/19/f95c75562d18eb27219df3a3590b911e78d131b68466ad79fdf5847eaac4/blis-0.4.1-cp36-cp36m-manylinux1_x86_64.whl (3.7MB)\n",
            "\u001b[K    100% |████████████████████████████████| 3.7MB 356kB/s \n",
            "\u001b[?25hRequirement already satisfied: requests<3.0.0,>=2.13.0 in /home/ryan/parlai_env/lib/python3.6/site-packages (from spacy)\n",
            "Collecting cymem<2.1.0,>=2.0.2 (from spacy)\n",
            "\u001b[33m  Cache entry deserialization failed, entry ignored\u001b[0m\n",
            "  Downloading https://files.pythonhosted.org/packages/e7/b5/3e1714ebda8fd7c5859f9b216e381adc0a38b962f071568fd00d67e1b1ca/cymem-2.0.3-cp36-cp36m-manylinux1_x86_64.whl\n",
            "Requirement already satisfied: numpy>=1.15.0 in /home/ryan/parlai_env/lib/python3.6/site-packages (from spacy)\n",
            "Collecting plac<1.2.0,>=0.9.6 (from spacy)\n",
            "\u001b[33m  Cache entry deserialization failed, entry ignored\u001b[0m\n",
            "  Using cached https://files.pythonhosted.org/packages/86/85/40b8f66c2dd8f4fd9f09d59b22720cffecf1331e788b8a0cab5bafb353d1/plac-1.1.3-py2.py3-none-any.whl\n",
            "Collecting preshed<3.1.0,>=3.0.2 (from spacy)\n",
            "\u001b[33m  Cache entry deserialization failed, entry ignored\u001b[0m\n",
            "  Downloading https://files.pythonhosted.org/packages/db/6b/e07fad36913879757c90ba03d6fb7f406f7279e11dcefc105ee562de63ea/preshed-3.0.2-cp36-cp36m-manylinux1_x86_64.whl (119kB)\n",
            "\u001b[K    100% |████████████████████████████████| 122kB 7.6MB/s \n",
            "\u001b[?25hRequirement already satisfied: tqdm<5.0.0,>=4.38.0 in /home/ryan/parlai_env/lib/python3.6/site-packages (from spacy)\n",
            "Collecting srsly<1.1.0,>=1.0.2 (from spacy)\n",
            "\u001b[33m  Cache entry deserialization failed, entry ignored\u001b[0m\n",
            "  Downloading https://files.pythonhosted.org/packages/0e/9a/70bd934dd4d25545c9aa6c8cd4edbac2a33ba9c915439a9209b69f0ec0ad/srsly-1.0.2-cp36-cp36m-manylinux1_x86_64.whl (185kB)\n",
            "\u001b[K    100% |████████████████████████████████| 194kB 5.9MB/s \n",
            "\u001b[?25hCollecting thinc==7.4.0 (from spacy)\n",
            "\u001b[33m  Cache entry deserialization failed, entry ignored\u001b[0m\n",
            "  Downloading https://files.pythonhosted.org/packages/73/ed/8e4559f1090fb05c0fa982a8a2caaa315967e7b460652be479d13fd1c813/thinc-7.4.0-cp36-cp36m-manylinux1_x86_64.whl (2.2MB)\n",
            "\u001b[K    100% |████████████████████████████████| 2.2MB 623kB/s \n",
            "\u001b[?25hRequirement already satisfied: importlib-metadata>=0.20; python_version < \"3.8\" in /home/ryan/parlai_env/lib/python3.6/site-packages (from catalogue<1.1.0,>=0.0.7->spacy)\n",
            "Requirement already satisfied: urllib3!=1.25.0,!=1.25.1,<1.26,>=1.21.1 in /home/ryan/parlai_env/lib/python3.6/site-packages (from requests<3.0.0,>=2.13.0->spacy)\n",
            "Requirement already satisfied: idna<3,>=2.5 in /home/ryan/parlai_env/lib/python3.6/site-packages (from requests<3.0.0,>=2.13.0->spacy)\n",
            "Requirement already satisfied: chardet<4,>=3.0.2 in /home/ryan/parlai_env/lib/python3.6/site-packages (from requests<3.0.0,>=2.13.0->spacy)\n",
            "Requirement already satisfied: certifi>=2017.4.17 in /home/ryan/parlai_env/lib/python3.6/site-packages (from requests<3.0.0,>=2.13.0->spacy)\n",
            "Requirement already satisfied: zipp>=0.5 in /home/ryan/parlai_env/lib/python3.6/site-packages (from importlib-metadata>=0.20; python_version < \"3.8\"->catalogue<1.1.0,>=0.0.7->spacy)\n",
            "Installing collected packages: catalogue, murmurhash, wasabi, blis, cymem, plac, preshed, srsly, thinc, spacy\n",
            "Successfully installed blis-0.4.1 catalogue-1.0.0 cymem-2.0.3 murmurhash-1.0.2 plac-1.1.3 preshed-3.0.2 spacy-2.2.4 srsly-1.0.2 thinc-7.4.0 wasabi-0.6.0\n"
          ],
          "name": "stdout"
        }
      ]
    },
    {
      "cell_type": "code",
      "metadata": {
        "id": "WvIkgohbRtT5",
        "colab_type": "code",
        "colab": {}
      },
      "source": [
        "import sentencepiece as spm"
      ],
      "execution_count": 0,
      "outputs": []
    },
    {
      "cell_type": "markdown",
      "metadata": {
        "id": "w9yMsOevFcUW",
        "colab_type": "text"
      },
      "source": [
        "## Train sentencpiece "
      ]
    },
    {
      "cell_type": "code",
      "metadata": {
        "id": "89c_u2LYG48d",
        "colab_type": "code",
        "colab": {}
      },
      "source": [
        "!python -m spacy download en_core_web_sm\n",
        "!python -m spacy download fr_core_news_sm"
      ],
      "execution_count": 0,
      "outputs": []
    },
    {
      "cell_type": "markdown",
      "metadata": {
        "id": "tPNbg1Cbhq2l",
        "colab_type": "text"
      },
      "source": [
        "I will try different text pipeline for en and fr\n",
        "\n",
        "- first config is en_uncased_nopunc, fr_cased_punc. This will not require a seperate auto punctuation model.\n",
        "\n",
        "- second config is en_uncased_nopunc, fr_uncased_nopunc, This will require a seperate auto punctuation model."
      ]
    },
    {
      "cell_type": "code",
      "metadata": {
        "id": "snRtYEahIutr",
        "colab_type": "code",
        "colab": {}
      },
      "source": [
        "!python tokenizer.py --input unaligned.en --output tokenized --lang en #--keep-case --keep-empty-lines\n",
        "!python tokenizer.py --input unaligned.fr --output tokenized --lang fr --keep-case #--keep-empty-lines"
      ],
      "execution_count": 0,
      "outputs": []
    },
    {
      "cell_type": "code",
      "metadata": {
        "id": "J14UoQAOLmd_",
        "colab_type": "code",
        "colab": {
          "base_uri": "https://localhost:8080/",
          "height": 68
        },
        "outputId": "1a95deb4-b882-4682-c1be-8766dada2597"
      },
      "source": [
        "!python punctuation_remover.py --input tokenized/unaligned.en --output fr_cased_punc"
      ],
      "execution_count": 15,
      "outputs": [
        {
          "output_type": "stream",
          "text": [
            "INFO:__main__:tokenizing file nopunc/unaligned.uncased.en\n",
            "474000it [00:02, 167759.02it/s]\n",
            "INFO:__main__:done - parsed 474000 lines and removed 993949 (punctuation) symbols\n"
          ],
          "name": "stdout"
        }
      ]
    },
    {
      "cell_type": "code",
      "metadata": {
        "id": "MO9aj769hanK",
        "colab_type": "code",
        "colab": {}
      },
      "source": [
        "!cp tokenized/unaligned.fr fr_cased_punc/"
      ],
      "execution_count": 0,
      "outputs": []
    },
    {
      "cell_type": "code",
      "metadata": {
        "id": "B4hlgfybkGVz",
        "colab_type": "code",
        "colab": {
          "base_uri": "https://localhost:8080/",
          "height": 51
        },
        "outputId": "4b35d088-c0d5-4672-ab70-d7651c171445"
      },
      "source": [
        "os.chdir(\"/home/ryan/projects/undreamt/data/fr_cased_punc\")\n",
        "!wc -l train.lang1\n",
        "!wc -l train.lang2"
      ],
      "execution_count": 19,
      "outputs": [
        {
          "output_type": "stream",
          "text": [
            "11000 train.lang1\n",
            "11000 train.lang2\n"
          ],
          "name": "stdout"
        }
      ]
    },
    {
      "cell_type": "code",
      "metadata": {
        "id": "TGSwfRZckY5q",
        "colab_type": "code",
        "colab": {}
      },
      "source": [
        "%%bash\n",
        "head -10000 train.lang1 > sub_train.lang1\n",
        "head -10000 train.lang2 > sub_train.lang2\n",
        "tail -1000 train.lang1 > sub_test.lang1\n",
        "tail -1000 train.lang2 > sub_test.lang2"
      ],
      "execution_count": 0,
      "outputs": []
    },
    {
      "cell_type": "code",
      "metadata": {
        "id": "Mcfu55pMKpy3",
        "colab_type": "code",
        "colab": {}
      },
      "source": [
        "# merge two corpus\n",
        "! cat sub_train.lang1 unaligned.en > en_corpus.txt\n",
        "! cat sub_train.lang2 unaligned.fr > fr_corpus.txt"
      ],
      "execution_count": 0,
      "outputs": []
    },
    {
      "cell_type": "code",
      "metadata": {
        "id": "aJ68sseZFbV0",
        "colab_type": "code",
        "outputId": "be04eba4-0dde-462c-f830-0b0566964496",
        "colab": {
          "base_uri": "https://localhost:8080/",
          "height": 34
        }
      },
      "source": [
        "# train sentencepiece model from `botchan.txt` and makes `m.model` and `m.vocab`\n",
        "# `m.vocab` is just a reference. not used in the segmentation.\n",
        "spm.SentencePieceTrainer.train('--input=en_corpus.txt --model_prefix=en_bpe --vocab_size=10000 --model_type=bpe')\n",
        "spm.SentencePieceTrainer.train('--input=fr_corpus.txt --model_prefix=fr_bpe --vocab_size=10000 --model_type=bpe')\n"
      ],
      "execution_count": 25,
      "outputs": [
        {
          "output_type": "execute_result",
          "data": {
            "text/plain": [
              "True"
            ]
          },
          "metadata": {
            "tags": []
          },
          "execution_count": 25
        }
      ]
    },
    {
      "cell_type": "code",
      "metadata": {
        "id": "18dWNml_ImOB",
        "colab_type": "code",
        "outputId": "ae74d983-0562-4545-c7fa-616dbf0ceb4c",
        "colab": {
          "base_uri": "https://localhost:8080/",
          "height": 88
        }
      },
      "source": [
        "# Test\n",
        "# makes segmenter instance and loads the model file\n",
        "sp_en = spm.SentencePieceProcessor()\n",
        "sp_en.load('en_bpe.model')\n",
        "\n",
        "# encode: text => id\n",
        "sentence=\"mr president ladies and gentlemen the financial perspective outlines the scope of the eu ’s activities over coming years as well as providing a framework for such activities and determining how effective they will be\"\n",
        "print(sp_en.encode_as_pieces(sentence))\n",
        "print(sp_en.encode_as_ids(sentence))\n",
        "\n",
        "encoded_sentence = sp_en.encode_as_pieces(sentence)\n",
        "print(sp_en.decode_pieces(encoded_sentence))"
      ],
      "execution_count": 28,
      "outputs": [
        {
          "output_type": "stream",
          "text": [
            "['▁mr', '▁president', '▁ladies', '▁and', '▁gentlemen', '▁the', '▁financial', '▁perspective', '▁out', 'lines', '▁the', '▁scope', '▁of', '▁the', '▁eu', '▁’', 's', '▁activities', '▁over', '▁coming', '▁years', '▁as', '▁well', '▁as', '▁providing', '▁a', '▁framework', '▁for', '▁such', '▁activities', '▁and', '▁determining', '▁how', '▁effective', '▁they', '▁will', '▁be']\n",
            "[192, 234, 1112, 39, 1114, 7, 700, 2856, 288, 3424, 7, 2924, 30, 7, 94, 308, 9965, 2075, 443, 1846, 519, 87, 536, 87, 3088, 5, 1273, 66, 474, 2075, 39, 8878, 259, 1157, 199, 138, 50]\n",
            "mr president ladies and gentlemen the financial perspective outlines the scope of the eu ’s activities over coming years as well as providing a framework for such activities and determining how effective they will be\n"
          ],
          "name": "stdout"
        }
      ]
    },
    {
      "cell_type": "code",
      "metadata": {
        "id": "-wj_drlkMYpV",
        "colab_type": "code",
        "outputId": "9751453d-c752-4257-afb2-25160c28c1fa",
        "colab": {
          "base_uri": "https://localhost:8080/",
          "height": 71
        }
      },
      "source": [
        "# Test\n",
        "# makes segmenter instance and loads the model file\n",
        "sp_fr = spm.SentencePieceProcessor()\n",
        "sp_fr.load('fr_bpe.model')\n",
        "\n",
        "# encode: text => id\n",
        "sentence=\"Monsieur le Président , Mesdames et Messieurs , les perspectives financières esquissent la portée des activités de l ’ UE pour les années à venir , fournissent un cadre pour ces activités et déterminent leur efficacité .\"\n",
        "print(sp_fr.encode_as_pieces(sentence))\n",
        "print(sp_fr.encode_as_ids(sentence))"
      ],
      "execution_count": 30,
      "outputs": [
        {
          "output_type": "stream",
          "text": [
            "['▁Monsieur', '▁le', '▁Président', '▁,', '▁Mesdames', '▁et', '▁Messieurs', '▁,', '▁les', '▁perspectives', '▁financières', '▁es', 'qu', 'issent', '▁la', '▁portée', '▁des', '▁activités', '▁de', '▁l', '▁’', '▁UE', '▁pour', '▁les', '▁années', '▁à', '▁venir', '▁,', '▁fournissent', '▁un', '▁cadre', '▁pour', '▁ces', '▁activités', '▁et', '▁détermin', 'ent', '▁leur', '▁efficacité', '▁.']\n",
            "[352, 38, 351, 19, 1600, 42, 1574, 19, 49, 3207, 2372, 59, 15, 1362, 30, 4522, 53, 2193, 12, 5, 1438, 630, 82, 49, 818, 48, 2148, 19, 9758, 39, 891, 82, 250, 2193, 42, 3374, 18, 395, 2252, 17]\n"
          ],
          "name": "stdout"
        }
      ]
    },
    {
      "cell_type": "code",
      "metadata": {
        "id": "T97N23VLmkCr",
        "colab_type": "code",
        "colab": {}
      },
      "source": [
        "def bpe_encdoing(sentenceProcessor, filename):\n",
        "    with open(filename, 'r') as f_in, open(f\"{filename}.atok\", 'w') as f_out:\n",
        "        for line in f_in:\n",
        "            f_out.writelines(\" \".join(sentenceProcessor.encode_as_pieces(line)+ ['\\n']))"
      ],
      "execution_count": 0,
      "outputs": []
    },
    {
      "cell_type": "code",
      "metadata": {
        "id": "tptzOq0TekIc",
        "colab_type": "code",
        "colab": {}
      },
      "source": [
        "sp_en = spm.SentencePieceProcessor()\n",
        "sp_en.load('en_bpe.model')\n",
        "\n",
        "bpe_encdoing(sp_en, \"en_corpus.txt\")"
      ],
      "execution_count": 0,
      "outputs": []
    },
    {
      "cell_type": "code",
      "metadata": {
        "id": "0K9zcJe0_jXV",
        "colab_type": "code",
        "colab": {}
      },
      "source": [
        "sp_fr = spm.SentencePieceProcessor()\n",
        "sp_fr.load('fr_bpe.model')\n",
        "\n",
        "bpe_encdoing(sp_fr, \"fr_corpus.txt\")"
      ],
      "execution_count": 0,
      "outputs": []
    },
    {
      "cell_type": "code",
      "metadata": {
        "id": "86fccajHnrVv",
        "colab_type": "code",
        "colab": {}
      },
      "source": [
        "bpe_encdoing(sp_en, \"sub_train.lang1\")\n",
        "bpe_encdoing(sp_en, \"sub_test.lang1\")"
      ],
      "execution_count": 0,
      "outputs": []
    },
    {
      "cell_type": "code",
      "metadata": {
        "id": "IBcRErrMn427",
        "colab_type": "code",
        "colab": {}
      },
      "source": [
        "bpe_encdoing(sp_fr, \"sub_train.lang2\")\n",
        "bpe_encdoing(sp_fr, \"sub_test.lang2\")"
      ],
      "execution_count": 0,
      "outputs": []
    },
    {
      "cell_type": "markdown",
      "metadata": {
        "id": "YN4BJL22kiP0",
        "colab_type": "text"
      },
      "source": [
        "## Train word embedding"
      ]
    },
    {
      "cell_type": "code",
      "metadata": {
        "id": "2u71-QkBoHAN",
        "colab_type": "code",
        "colab": {}
      },
      "source": [
        "mkdir restult_dimension_300"
      ],
      "execution_count": 0,
      "outputs": []
    },
    {
      "cell_type": "code",
      "metadata": {
        "id": "1uTT9UD4BfsJ",
        "colab_type": "code",
        "outputId": "7ceb822e-dbfc-4c2f-e904-6566458e65fb",
        "colab": {
          "base_uri": "https://localhost:8080/",
          "height": 85
        }
      },
      "source": [
        "!/home/ryan/projects/fastText/fasttext skipgram -input en_corpus.txt.atok -output restult_dimension_300/fasttext-en-300 -minn 2 -maxn 5 -dim 300"
      ],
      "execution_count": 44,
      "outputs": [
        {
          "output_type": "stream",
          "text": [
            "Read 10M words\n",
            "Number of words:  9725\n",
            "Number of labels: 0\n",
            "Progress: 100.0% words/sec/thread:   25877 lr:  0.000000 avg.loss:  2.295455 ETA:   0h 0m 0s\n"
          ],
          "name": "stdout"
        }
      ]
    },
    {
      "cell_type": "code",
      "metadata": {
        "id": "yyhajrlvENNg",
        "colab_type": "code",
        "outputId": "e3e6cbcf-5287-4724-9c88-6762d89c1e47",
        "colab": {
          "base_uri": "https://localhost:8080/",
          "height": 85
        }
      },
      "source": [
        "!/home/ryan/projects/fastText/fasttext skipgram -input fr_corpus.txt.atok -output restult_dimension_300/fasttext-fr-300 -minn 2 -maxn 5 -dim 300"
      ],
      "execution_count": 45,
      "outputs": [
        {
          "output_type": "stream",
          "text": [
            "Read 13M words\n",
            "Number of words:  9863\n",
            "Number of labels: 0\n",
            "Progress: 100.0% words/sec/thread:   24998 lr:  0.000000 avg.loss:  2.260107 ETA:   0h 0m 0s\n"
          ],
          "name": "stdout"
        }
      ]
    },
    {
      "cell_type": "markdown",
      "metadata": {
        "id": "0DlPqb_wGfgq",
        "colab_type": "text"
      },
      "source": [
        "Mapping two languange word embedding to same vector space"
      ]
    },
    {
      "cell_type": "code",
      "metadata": {
        "id": "D7jJwOrlLAAS",
        "colab_type": "code",
        "colab": {}
      },
      "source": [
        "!pip install cupy"
      ],
      "execution_count": 0,
      "outputs": []
    },
    {
      "cell_type": "code",
      "metadata": {
        "id": "NE38zMyQFohs",
        "colab_type": "code",
        "colab": {}
      },
      "source": [
        "!python /home/ryan/projects/vecmap/map_embeddings.py --unsupervised restult_dimension_300/fasttext-en-300.vec restult_dimension_300/fasttext-fr-300.vec SRC_MAPPED.EMB TRG_MAPPED.EMB --cuda"
      ],
      "execution_count": 0,
      "outputs": []
    },
    {
      "cell_type": "markdown",
      "metadata": {
        "id": "bbmjPhHhefui",
        "colab_type": "text"
      },
      "source": [
        "## Train NMT model"
      ]
    },
    {
      "cell_type": "code",
      "metadata": {
        "id": "e17eK5pJY20v",
        "colab_type": "code",
        "outputId": "1eb6e5e8-7d61-4cc7-ede1-22bf9f7f9eb2",
        "colab": {
          "base_uri": "https://localhost:8080/",
          "height": 442
        }
      },
      "source": [
        "import os\n",
        "os.chdir(\"/home/ryan/projects/undreamt\")\n",
        "os.listdir('data/fr_cased_punc')"
      ],
      "execution_count": 50,
      "outputs": [
        {
          "output_type": "execute_result",
          "data": {
            "text/plain": [
              "['en_bpe.model',\n",
              " 'unaligned.cased.en',\n",
              " 'sub_train.lang2',\n",
              " 'unaligned.uncased.en',\n",
              " 'train.lang1',\n",
              " 'en_corpus.txt',\n",
              " 'unaligned.cased.fr',\n",
              " 'sub_test.lang2.atok',\n",
              " 'sub_train.lang1',\n",
              " 'sub_test.lang2',\n",
              " 'sub_train.lang2.atok',\n",
              " 'unaligned.fr',\n",
              " 'sub_test.lang1',\n",
              " 'sub_train.lang1.atok',\n",
              " 'train.lang2',\n",
              " 'fr_corpus.txt.atok',\n",
              " 'en_corpus.txt.atok',\n",
              " 'unaligned.en',\n",
              " 'fr_corpus.txt',\n",
              " 'en_bpe.vocab',\n",
              " 'unaligned.uncased.fr',\n",
              " 'fr_bpe.model',\n",
              " 'sub_test.lang1.atok',\n",
              " 'restult_dimension_300',\n",
              " 'fr_bpe.vocab']"
            ]
          },
          "metadata": {
            "tags": []
          },
          "execution_count": 50
        }
      ]
    },
    {
      "cell_type": "code",
      "metadata": {
        "id": "NV0rdY6nZem5",
        "colab_type": "code",
        "colab": {
          "base_uri": "https://localhost:8080/",
          "height": 68
        },
        "outputId": "4b575b12-107f-4211-e9fb-5e71816c2d21"
      },
      "source": [
        "!pip install torch==0.3.1"
      ],
      "execution_count": 1,
      "outputs": [
        {
          "output_type": "stream",
          "text": [
            "Requirement already satisfied: torch==0.3.1 in ./unsup_nmt_env/lib/python3.6/site-packages\n",
            "Requirement already satisfied: numpy in ./unsup_nmt_env/lib/python3.6/site-packages (from torch==0.3.1)\n",
            "Requirement already satisfied: pyyaml in ./unsup_nmt_env/lib/python3.6/site-packages (from torch==0.3.1)\n"
          ],
          "name": "stdout"
        }
      ]
    },
    {
      "cell_type": "code",
      "metadata": {
        "id": "mKmdL4PWkgT3",
        "colab_type": "code",
        "colab": {}
      },
      "source": [
        "!python train.py \\\n",
        "--src data/fr_cased_punc/en_corpus.txt.atok \\\n",
        "--trg data/fr_cased_punc/fr_corpus.txt.atok \\\n",
        "--src_embeddings data/fr_cased_punc/restult_dimension_300/SRC_MAPPED.EMB \\\n",
        "--trg_embeddings data/fr_cased_punc/restult_dimension_300/TRG_MAPPED.EMB \\\n",
        "--src2trg data/fr_cased_punc/sub_train.lang1.atok data/fr_cased_punc/sub_train.lang2.atok  \\\n",
        "--save en2fr-aligned_unaligned \\\n",
        "--save_interval 5000 \\\n",
        "--iterations 10000 \\\n",
        "--cuda"
      ],
      "execution_count": 0,
      "outputs": []
    },
    {
      "cell_type": "code",
      "metadata": {
        "id": "7GhiX5S5ZZLU",
        "colab_type": "code",
        "outputId": "5dd05a05-7875-4ea9-c620-5f9e7172bab8",
        "colab": {
          "base_uri": "https://localhost:8080/",
          "height": 51
        }
      },
      "source": [
        "!python3 translate.py en2fr-aligned_unaligned.final.src2trg.pth < data/fr_cased_punc/sub_test.lang1.atok > data/fr_cased_punc/test_fr_pred.txt.atok"
      ],
      "execution_count": 2,
      "outputs": [
        {
          "output_type": "stream",
          "text": [
            "/home/ryan/projects/undreamt/undreamt/encoder.py:48: UserWarning: RNN module weights are not part of single contiguous chunk of memory. This means they need to be compacted at every call, possibly greatly increasing memory usage. To compact weights again call flatten_parameters().\r\n",
            "  output, hidden = self.rnn(embeddings, hidden)\r\n"
          ],
          "name": "stdout"
        }
      ]
    },
    {
      "cell_type": "markdown",
      "metadata": {
        "id": "nwpTHz1cbZxW",
        "colab_type": "text"
      },
      "source": [
        "Get the BLEU score before decoding"
      ]
    },
    {
      "cell_type": "code",
      "metadata": {
        "id": "kMGoFK6KYFpt",
        "colab_type": "code",
        "outputId": "6065bf13-8896-4618-ba19-3628118be456",
        "colab": {
          "base_uri": "https://localhost:8080/",
          "height": 34
        }
      },
      "source": [
        " !perl multi-bleu.perl data/fr_cased_punc/sub_test.lang2.atok < data/fr_cased_punc/test_fr_pred.txt.atok "
      ],
      "execution_count": 9,
      "outputs": [
        {
          "output_type": "stream",
          "text": [
            "BLEU = 11.11, 43.4/18.2/9.1/4.7 (BP=0.818, ratio=0.833, hyp_len=23055, ref_len=27674)\r\n"
          ],
          "name": "stdout"
        }
      ]
    },
    {
      "cell_type": "code",
      "metadata": {
        "id": "zydGrtD5RVl1",
        "colab_type": "code",
        "colab": {
          "base_uri": "https://localhost:8080/",
          "height": 34
        },
        "outputId": "6343a34a-6ed0-414e-ac44-8009281350cd"
      },
      "source": [
        "sp_fr = spm.SentencePieceProcessor()\n",
        "sp_fr.load('data/fr_cased_punc/fr_bpe.model')"
      ],
      "execution_count": 6,
      "outputs": [
        {
          "output_type": "execute_result",
          "data": {
            "text/plain": [
              "True"
            ]
          },
          "metadata": {
            "tags": []
          },
          "execution_count": 6
        }
      ]
    },
    {
      "cell_type": "code",
      "metadata": {
        "id": "60vx1SdxT_wU",
        "colab_type": "code",
        "colab": {}
      },
      "source": [
        "with open(\"data/fr_cased_punc/test_fr_pred.txt.atok\", 'r') as f_in, open(\"data/fr_cased_punc/test_fr_pred.txt\", 'w') as f_out:\n",
        "    for line in f_in:\n",
        "        f_out.writelines([sp_fr.decode_pieces(line.split()), '\\n'])"
      ],
      "execution_count": 0,
      "outputs": []
    },
    {
      "cell_type": "markdown",
      "metadata": {
        "id": "wF0sptbObkHC",
        "colab_type": "text"
      },
      "source": [
        "After decoding the BPE text."
      ]
    },
    {
      "cell_type": "code",
      "metadata": {
        "id": "NQ9hlAXlYZPH",
        "colab_type": "code",
        "outputId": "86561e10-a873-40a4-e6b3-84290f579a77",
        "colab": {
          "base_uri": "https://localhost:8080/",
          "height": 34
        }
      },
      "source": [
        "!perl multi-bleu.perl data/fr_cased_punc/sub_test.lang2 < data/fr_cased_punc/test_fr_pred.txt"
      ],
      "execution_count": 10,
      "outputs": [
        {
          "output_type": "stream",
          "text": [
            "BLEU = 11.97, 44.2/18.5/9.2/4.7 (BP=0.875, ratio=0.882, hyp_len=21865, ref_len=24780)\r\n"
          ],
          "name": "stdout"
        }
      ]
    },
    {
      "cell_type": "code",
      "metadata": {
        "id": "QpM-Hz-d1Bzn",
        "colab_type": "code",
        "colab": {}
      },
      "source": [
        "python3 translate.py lowresource_enfr.it2000.src2trg.dill < /home/ryan/projects/undreamt/data/fr_cased_punc/sub_test.lang1.atok > test_fr_pred.txt.atok"
      ],
      "execution_count": 0,
      "outputs": []
    }
  ]
}