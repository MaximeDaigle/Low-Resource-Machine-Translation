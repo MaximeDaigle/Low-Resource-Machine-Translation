{
  "nbformat": 4,
  "nbformat_minor": 0,
  "metadata": {
    "colab": {
      "name": "Unsupervised Neural Machine Translation.ipynb",
      "provenance": [],
      "collapsed_sections": [],
      "authorship_tag": "ABX9TyNHcxL3D4tUODxcGPZqeOks",
      "include_colab_link": true
    },
    "kernelspec": {
      "name": "python3",
      "display_name": "Python 3"
    }
  },
  "cells": [
    {
      "cell_type": "markdown",
      "metadata": {
        "id": "view-in-github",
        "colab_type": "text"
      },
      "source": [
        "<a href=\"https://colab.research.google.com/github/marued/low-resource-machine-translation-team07/blob/master/notebooks/Unsupervised_Neural_Machine_Translation.ipynb\" target=\"_parent\"><img src=\"https://colab.research.google.com/assets/colab-badge.svg\" alt=\"Open In Colab\"/></a>"
      ]
    },
    {
      "cell_type": "markdown",
      "metadata": {
        "id": "srgFcIIiknCX",
        "colab_type": "text"
      },
      "source": [
        "## Unsupervised Neural Machine Translation\n",
        "reproduce the result on our corpus, \n",
        "Project: https://github.com/artetxem/undreamt\n"
      ]
    },
    {
      "cell_type": "code",
      "metadata": {
        "id": "T0ob5dbDgiBI",
        "colab_type": "code",
        "outputId": "8bd00f3b-3d4f-42fc-9c46-a2533a462ad8",
        "colab": {
          "base_uri": "https://localhost:8080/",
          "height": 238
        }
      },
      "source": [
        "import os\n",
        "os.chdir(\"/home/ryan/projects/undreamt/data\")\n",
        "os.listdir()"
      ],
      "execution_count": 0,
      "outputs": [
        {
          "output_type": "execute_result",
          "data": {
            "text/plain": [
              "['en_bpe.model',\n",
              " 'train.lang1',\n",
              " 'en_corpus.txt',\n",
              " 'unaligned.fr',\n",
              " 'train.lang2',\n",
              " 'fr_corpus.txt.atok',\n",
              " 'en_corpus.txt.atok',\n",
              " 'unaligned.en',\n",
              " 'fr_corpus.txt',\n",
              " 'en_bpe.vocab',\n",
              " 'fr_bpe.model',\n",
              " 'restult_dimension_300',\n",
              " 'fr_bpe.vocab']"
            ]
          },
          "metadata": {
            "tags": []
          },
          "execution_count": 1
        }
      ]
    },
    {
      "cell_type": "code",
      "metadata": {
        "id": "Dbc3z0aaR3gx",
        "colab_type": "code",
        "colab": {
          "base_uri": "https://localhost:8080/",
          "height": 102
        },
        "outputId": "c807ebf9-2486-4fe9-a1b6-ec7b24654212"
      },
      "source": [
        "!pip install sentencepiece"
      ],
      "execution_count": 7,
      "outputs": [
        {
          "output_type": "stream",
          "text": [
            "Collecting sentencepiece\r\n",
            "\u001b[33m  Cache entry deserialization failed, entry ignored\u001b[0m\n",
            "  Using cached https://files.pythonhosted.org/packages/74/f4/2d5214cbf13d06e7cb2c20d84115ca25b53ea76fa1f0ade0e3c9749de214/sentencepiece-0.1.85-cp36-cp36m-manylinux1_x86_64.whl\n",
            "Installing collected packages: sentencepiece\n",
            "Successfully installed sentencepiece-0.1.85\n"
          ],
          "name": "stdout"
        }
      ]
    },
    {
      "cell_type": "code",
      "metadata": {
        "id": "WvIkgohbRtT5",
        "colab_type": "code",
        "colab": {}
      },
      "source": [
        "import sentencepiece as spm"
      ],
      "execution_count": 0,
      "outputs": []
    },
    {
      "cell_type": "markdown",
      "metadata": {
        "id": "w9yMsOevFcUW",
        "colab_type": "text"
      },
      "source": [
        "## Train sentencpiece "
      ]
    },
    {
      "cell_type": "code",
      "metadata": {
        "id": "Mcfu55pMKpy3",
        "colab_type": "code",
        "colab": {}
      },
      "source": [
        "# merge two corpus\n",
        "! cat train.lang1 unaligned.en > en_corpus.txt\n",
        "! cat train.lang2 unaligned.fr > fr_corpus.txt"
      ],
      "execution_count": 0,
      "outputs": []
    },
    {
      "cell_type": "code",
      "metadata": {
        "id": "aJ68sseZFbV0",
        "colab_type": "code",
        "outputId": "dc375439-d688-4350-b4c5-d552fc2b9bd3",
        "colab": {
          "base_uri": "https://localhost:8080/",
          "height": 34
        }
      },
      "source": [
        "# train sentencepiece model from `botchan.txt` and makes `m.model` and `m.vocab`\n",
        "# `m.vocab` is just a reference. not used in the segmentation.\n",
        "spm.SentencePieceTrainer.train('--input=en_corpus.txt --model_prefix=en_bpe --vocab_size=10000 --model_type=bpe')\n",
        "spm.SentencePieceTrainer.train('--input=fr_corpus.txt --model_prefix=fr_bpe --vocab_size=10000 --model_type=bpe')\n"
      ],
      "execution_count": 0,
      "outputs": [
        {
          "output_type": "execute_result",
          "data": {
            "text/plain": [
              "True"
            ]
          },
          "metadata": {
            "tags": []
          },
          "execution_count": 18
        }
      ]
    },
    {
      "cell_type": "code",
      "metadata": {
        "id": "18dWNml_ImOB",
        "colab_type": "code",
        "outputId": "904e703a-f655-4495-8670-e2d16d653087",
        "colab": {
          "base_uri": "https://localhost:8080/",
          "height": 88
        }
      },
      "source": [
        "# Test\n",
        "# makes segmenter instance and loads the model file\n",
        "sp_en = spm.SentencePieceProcessor()\n",
        "sp_en.load('en_bpe.model')\n",
        "\n",
        "# encode: text => id\n",
        "sentence=\"Mr President, it seems that the long road to creating a single regulation on the legal protection of designs, drawings and models in the European Union is nearing its end.\"\n",
        "print(sp_en.encode_as_pieces(sentence))\n",
        "print(sp_en.encode_as_ids(sentence))\n",
        "\n",
        "encoded_sentence = sp_en.encode_as_pieces(sentence)\n",
        "print(sp_en.decode_pieces(encoded_sentence))"
      ],
      "execution_count": 12,
      "outputs": [
        {
          "output_type": "stream",
          "text": [
            "['▁Mr', '▁President', ',', '▁it', '▁seems', '▁that', '▁the', '▁long', '▁road', '▁to', '▁creating', '▁a', '▁single', '▁regulation', '▁on', '▁the', '▁legal', '▁protection', '▁of', '▁design', 's', ',', '▁draw', 'ings', '▁and', '▁models', '▁in', '▁the', '▁European', '▁Union', '▁is', '▁near', 'ing', '▁its', '▁end', '.']\n",
            "[199, 268, 9950, 74, 1719, 51, 8, 609, 2061, 23, 2751, 5, 1592, 1643, 62, 8, 1193, 1191, 29, 1911, 9934, 9950, 1876, 484, 40, 5342, 28, 8, 166, 351, 49, 2475, 34, 302, 672, 9948]\n",
            "Mr President, it seems that the long road to creating a single regulation on the legal protection of designs, drawings and models in the European Union is nearing its end.\n"
          ],
          "name": "stdout"
        }
      ]
    },
    {
      "cell_type": "code",
      "metadata": {
        "id": "-wj_drlkMYpV",
        "colab_type": "code",
        "outputId": "dc84e370-f427-4292-ba42-6be953e7c0a1",
        "colab": {
          "base_uri": "https://localhost:8080/",
          "height": 71
        }
      },
      "source": [
        "# Test\n",
        "# makes segmenter instance and loads the model file\n",
        "sp_fr = spm.SentencePieceProcessor()\n",
        "sp_fr.load('fr_bpe.model')\n",
        "\n",
        "# encode: text => id\n",
        "sentence=\"Les élections palestiniennes de janvier ont été remportées par un leader relativement modéré, et ce pour deux raisons : il a été mis en avant par le mouvement Fatah au pouvoir et les Islamistes ont boycotté l'élection.\"\n",
        "print(sp_fr.encode_as_pieces(sentence))\n",
        "print(sp_fr.encode_as_ids(sentence))"
      ],
      "execution_count": 0,
      "outputs": [
        {
          "output_type": "stream",
          "text": [
            "['▁Les', '▁élections', '▁palestini', 'ennes', '▁de', '▁janvier', '▁ont', '▁été', '▁remp', 'or', 'tées', '▁par', '▁un', '▁leader', '▁relativement', '▁modé', 'ré', ',', '▁et', '▁ce', '▁pour', '▁deux', '▁raisons', '▁:', '▁il', '▁a', '▁été', '▁mis', '▁en', '▁avant', '▁par', '▁le', '▁mouvement', '▁F', 'at', 'ah', '▁au', '▁pouvoir', '▁et', '▁les', '▁Is', 'lam', 'istes', '▁ont', '▁b', 'oy', 'co', 't', 'té', '▁l', \"'\", 'élection', '.']\n",
            "[292, 2062, 3513, 2462, 11, 3955, 248, 284, 1802, 35, 1881, 74, 51, 8414, 4600, 6327, 119, 9933, 41, 60, 78, 429, 1739, 671, 160, 16, 284, 1313, 55, 775, 74, 36, 3655, 544, 109, 3051, 66, 897, 41, 45, 9538, 3897, 1951, 248, 85, 329, 372, 9917, 80, 5, 9932, 5872, 9931]\n"
          ],
          "name": "stdout"
        }
      ]
    },
    {
      "cell_type": "code",
      "metadata": {
        "id": "tptzOq0TekIc",
        "colab_type": "code",
        "colab": {}
      },
      "source": [
        "sp_en = spm.SentencePieceProcessor()\n",
        "sp_en.load('en_bpe.model')\n",
        "\n",
        "with open(\"en_corpus.txt\", 'r') as f_in, open(\"en_corpus.txt.atok\", 'w') as f_out:\n",
        "    for line in f_in:\n",
        "        f_out.writelines(\" \".join(sp_en.encode_as_pieces(line)+ ['\\n']))"
      ],
      "execution_count": 0,
      "outputs": []
    },
    {
      "cell_type": "code",
      "metadata": {
        "id": "0K9zcJe0_jXV",
        "colab_type": "code",
        "colab": {}
      },
      "source": [
        "sp_fr = spm.SentencePieceProcessor()\n",
        "sp_fr.load('fr_bpe.model')\n",
        "\n",
        "with open(\"fr_corpus.txt\", 'r') as f_in, open(\"fr_corpus.txt.atok\", 'w') as f_out:\n",
        "    for line in f_in:\n",
        "        f_out.writelines(\" \".join(sp_fr.encode_as_pieces(line)+ ['\\n']))"
      ],
      "execution_count": 0,
      "outputs": []
    },
    {
      "cell_type": "markdown",
      "metadata": {
        "id": "YN4BJL22kiP0",
        "colab_type": "text"
      },
      "source": [
        "## Train word embedding"
      ]
    },
    {
      "cell_type": "code",
      "metadata": {
        "id": "1uTT9UD4BfsJ",
        "colab_type": "code",
        "outputId": "ba7fe778-68dc-4f3a-9bb4-2b1bd5f9ce10",
        "colab": {
          "base_uri": "https://localhost:8080/",
          "height": 85
        }
      },
      "source": [
        "!/home/ryan/projects/fastText/fasttext skipgram -input en_corpus.txt.atok -output restult_dimension_300/fasttext-en-300 -minn 2 -maxn 5 -dim 300"
      ],
      "execution_count": 0,
      "outputs": [
        {
          "output_type": "stream",
          "text": [
            "Read 11M words\n",
            "Number of words:  9902\n",
            "Number of labels: 0\n",
            "Progress: 100.0% words/sec/thread:   29057 lr:  0.000000 avg.loss:  2.268167 ETA:   0h 0m 0s\n"
          ],
          "name": "stdout"
        }
      ]
    },
    {
      "cell_type": "code",
      "metadata": {
        "id": "yyhajrlvENNg",
        "colab_type": "code",
        "outputId": "0e58fe37-e6f7-4010-ff7b-330b29d07f3f",
        "colab": {
          "base_uri": "https://localhost:8080/",
          "height": 85
        }
      },
      "source": [
        "!/home/ryan/projects/fastText/fasttext skipgram -input fr_corpus.txt.atok -output restult_dimension_300/fasttext-fr-300 -minn 2 -maxn 5 -dim 300"
      ],
      "execution_count": 0,
      "outputs": [
        {
          "output_type": "stream",
          "text": [
            "Read 13M words\n",
            "Number of words:  9921\n",
            "Number of labels: 0\n",
            "Progress: 100.0% words/sec/thread:   27845 lr:  0.000000 avg.loss:  2.274154 ETA:   0h 0m 0s\n"
          ],
          "name": "stdout"
        }
      ]
    },
    {
      "cell_type": "markdown",
      "metadata": {
        "id": "0DlPqb_wGfgq",
        "colab_type": "text"
      },
      "source": [
        "Mapping two languange word embedding to same vector space"
      ]
    },
    {
      "cell_type": "code",
      "metadata": {
        "id": "D7jJwOrlLAAS",
        "colab_type": "code",
        "outputId": "0d86114f-ad7d-43c5-9366-3af86bec4802",
        "colab": {
          "base_uri": "https://localhost:8080/",
          "height": 85
        }
      },
      "source": [
        "!pip install cupy-cuda102"
      ],
      "execution_count": 0,
      "outputs": [
        {
          "output_type": "stream",
          "text": [
            "Requirement already satisfied: cupy-cuda102 in /home/ryan/projects/OpenNMT-py/opennmt_py_env/lib/python3.7/site-packages (7.3.0)\n",
            "Requirement already satisfied: six>=1.9.0 in /home/ryan/projects/OpenNMT-py/opennmt_py_env/lib/python3.7/site-packages/six-1.14.0-py3.7.egg (from cupy-cuda102) (1.14.0)\n",
            "Requirement already satisfied: fastrlock>=0.3 in /home/ryan/projects/OpenNMT-py/opennmt_py_env/lib/python3.7/site-packages (from cupy-cuda102) (0.4)\n",
            "Requirement already satisfied: numpy>=1.9.0 in /home/ryan/projects/OpenNMT-py/opennmt_py_env/lib/python3.7/site-packages/numpy-1.18.2-py3.7-linux-x86_64.egg (from cupy-cuda102) (1.18.2)\n"
          ],
          "name": "stdout"
        }
      ]
    },
    {
      "cell_type": "code",
      "metadata": {
        "id": "NE38zMyQFohs",
        "colab_type": "code",
        "colab": {}
      },
      "source": [
        "!python /home/ryan/projects/vecmap/map_embeddings.py --unsupervised restult_dimension_300/fasttext-en-300.vec restult_dimension_300/fasttext-fr-300.vec SRC_MAPPED.EMB TRG_MAPPED.EMB --cuda"
      ],
      "execution_count": 0,
      "outputs": []
    },
    {
      "cell_type": "markdown",
      "metadata": {
        "id": "bbmjPhHhefui",
        "colab_type": "text"
      },
      "source": [
        "## Train NMT model"
      ]
    },
    {
      "cell_type": "code",
      "metadata": {
        "id": "e17eK5pJY20v",
        "colab_type": "code",
        "outputId": "89975b2c-9d3f-4345-d578-d8650b207af2",
        "colab": {
          "base_uri": "https://localhost:8080/",
          "height": 289
        }
      },
      "source": [
        "import os\n",
        "os.chdir(\"/home/ryan/projects/undreamt\")\n",
        "os.listdir('data')"
      ],
      "execution_count": 2,
      "outputs": [
        {
          "output_type": "execute_result",
          "data": {
            "text/plain": [
              "['en_bpe.model',\n",
              " 'train.lang1',\n",
              " 'en_corpus.txt',\n",
              " 'test_en.txt.atok',\n",
              " 'unaligned.fr',\n",
              " 'test_fr.txt.atok',\n",
              " 'train.lang2',\n",
              " 'fr_pred.txt.atok',\n",
              " 'fr_corpus.txt.atok',\n",
              " 'en_corpus.txt.atok',\n",
              " 'unaligned.en',\n",
              " 'fr_corpus.txt',\n",
              " 'en_bpe.vocab',\n",
              " 'fr_bpe.model',\n",
              " 'restult_dimension_300',\n",
              " 'fr_bpe.vocab']"
            ]
          },
          "metadata": {
            "tags": []
          },
          "execution_count": 2
        }
      ]
    },
    {
      "cell_type": "code",
      "metadata": {
        "id": "NV0rdY6nZem5",
        "colab_type": "code",
        "colab": {}
      },
      "source": [
        "!pip install torch==0.3.1"
      ],
      "execution_count": 0,
      "outputs": []
    },
    {
      "cell_type": "code",
      "metadata": {
        "id": "mKmdL4PWkgT3",
        "colab_type": "code",
        "colab": {}
      },
      "source": [
        "!python train.py --src data/en_corpus.txt.atok --trg data/fr_corpus.txt.atok --src_embeddings data/restult_dimension_300/SRC_MAPPED.EMB --trg_embeddings data/restult_dimension_300/TRG_MAPPED.EMB --save lowresource_enfr --cuda"
      ],
      "execution_count": 0,
      "outputs": []
    },
    {
      "cell_type": "code",
      "metadata": {
        "id": "7GhiX5S5ZZLU",
        "colab_type": "code",
        "colab": {
          "base_uri": "https://localhost:8080/",
          "height": 51
        },
        "outputId": "d9cae695-b699-4bd0-9db1-d8aa35a6a767"
      },
      "source": [
        "!python3 translate.py lowresource_enfr.final.src2trg.pth < data/test_en.txt.atok > data/test_fr_pred.txt.atok"
      ],
      "execution_count": 18,
      "outputs": [
        {
          "output_type": "stream",
          "text": [
            "/home/ryan/projects/undreamt/undreamt/encoder.py:48: UserWarning: RNN module weights are not part of single contiguous chunk of memory. This means they need to be compacted at every call, possibly greatly increasing memory usage. To compact weights again call flatten_parameters().\r\n",
            "  output, hidden = self.rnn(embeddings, hidden)\r\n"
          ],
          "name": "stdout"
        }
      ]
    },
    {
      "cell_type": "markdown",
      "metadata": {
        "id": "nwpTHz1cbZxW",
        "colab_type": "text"
      },
      "source": [
        "Get the BLEU score before decoding"
      ]
    },
    {
      "cell_type": "code",
      "metadata": {
        "id": "kMGoFK6KYFpt",
        "colab_type": "code",
        "colab": {
          "base_uri": "https://localhost:8080/",
          "height": 34
        },
        "outputId": "daf19c49-563d-422f-d0bf-2f0cb1fea0f6"
      },
      "source": [
        " !perl multi-bleu.perl data/test_fr.txt.atok < data/test_fr_pred.txt.atok "
      ],
      "execution_count": 28,
      "outputs": [
        {
          "output_type": "stream",
          "text": [
            "BLEU = 15.23, 44.6/20.9/11.6/6.7 (BP=0.928, ratio=0.930, hyp_len=26178, ref_len=28135)\r\n"
          ],
          "name": "stdout"
        }
      ]
    },
    {
      "cell_type": "code",
      "metadata": {
        "id": "zydGrtD5RVl1",
        "colab_type": "code",
        "colab": {}
      },
      "source": [
        "sp_fr = spm.SentencePieceProcessor()\n",
        "sp_fr.load('data/fr_bpe.model')"
      ],
      "execution_count": 0,
      "outputs": []
    },
    {
      "cell_type": "code",
      "metadata": {
        "id": "60vx1SdxT_wU",
        "colab_type": "code",
        "colab": {}
      },
      "source": [
        "with open(\"data/test_fr_pred.txt.atok\", 'r') as f_in, open(\"data/test_fr_pred.txt\", 'w') as f_out:\n",
        "    for line in f_in:\n",
        "        f_out.writelines([sp_fr.decode_pieces(line.split()), '\\n'])"
      ],
      "execution_count": 0,
      "outputs": []
    },
    {
      "cell_type": "markdown",
      "metadata": {
        "id": "wF0sptbObkHC",
        "colab_type": "text"
      },
      "source": [
        "After decoding the BPE text."
      ]
    },
    {
      "cell_type": "code",
      "metadata": {
        "id": "NQ9hlAXlYZPH",
        "colab_type": "code",
        "colab": {
          "base_uri": "https://localhost:8080/",
          "height": 34
        },
        "outputId": "6649816e-74cd-4f8e-aba5-6b958388724d"
      },
      "source": [
        "!perl multi-bleu.perl data/test_fr.txt < data/test_fr_pred.txt"
      ],
      "execution_count": 30,
      "outputs": [
        {
          "output_type": "stream",
          "text": [
            "BLEU = 15.40, 46.5/20.8/11.2/6.3 (BP=0.952, ratio=0.953, hyp_len=22258, ref_len=23353)\r\n"
          ],
          "name": "stdout"
        }
      ]
    },
    {
      "cell_type": "code",
      "metadata": {
        "id": "JpSFMozxMqz-",
        "colab_type": "code",
        "colab": {
          "base_uri": "https://localhost:8080/",
          "height": 34
        },
        "outputId": "68ddda41-0f42-4a3a-ce41-cff788d660b3"
      },
      "source": [
        "import sys\n",
        "print(sys.executable)"
      ],
      "execution_count": 1,
      "outputs": [
        {
          "output_type": "stream",
          "text": [
            "/home/ryan/projects/undreamt/unsup_nmt_env/bin/python3.6\n"
          ],
          "name": "stdout"
        }
      ]
    }
  ]
}